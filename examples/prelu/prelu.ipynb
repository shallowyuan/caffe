{
 "metadata": {
  "name": "",
  "signature": "sha256:afcba338933e6b2533ac536065d279739f4ba04aa457857d113592c02716f8e3"
 },
 "nbformat": 3,
 "nbformat_minor": 0,
 "worksheets": [
  {
   "cells": [
    {
     "cell_type": "code",
     "collapsed": false,
     "input": [
      "%cd ../../"
     ],
     "language": "python",
     "metadata": {},
     "outputs": [
      {
       "output_type": "stream",
       "stream": "stdout",
       "text": [
        "/home/narihira/source/caffe-rebase-iiw\n"
       ]
      }
     ],
     "prompt_number": 1
    },
    {
     "cell_type": "code",
     "collapsed": false,
     "input": [
      "%pylab inline"
     ],
     "language": "python",
     "metadata": {},
     "outputs": [
      {
       "output_type": "stream",
       "stream": "stdout",
       "text": [
        "Populating the interactive namespace from numpy and matplotlib\n"
       ]
      }
     ],
     "prompt_number": 2
    },
    {
     "cell_type": "code",
     "collapsed": false,
     "input": [
      "import sys, glob, os, shutil"
     ],
     "language": "python",
     "metadata": {},
     "outputs": [],
     "prompt_number": 3
    },
    {
     "cell_type": "code",
     "collapsed": false,
     "input": [
      "sys.path.append('../caffe_helper/python')"
     ],
     "language": "python",
     "metadata": {},
     "outputs": [],
     "prompt_number": 4
    },
    {
     "cell_type": "code",
     "collapsed": false,
     "input": [
      "from caffe_helper.tools import CaffeHelper"
     ],
     "language": "python",
     "metadata": {},
     "outputs": [],
     "prompt_number": 5
    },
    {
     "cell_type": "code",
     "collapsed": false,
     "input": [
      "helper = CaffeHelper(os.path.abspath('.'))"
     ],
     "language": "python",
     "metadata": {},
     "outputs": [],
     "prompt_number": 6
    },
    {
     "cell_type": "code",
     "collapsed": false,
     "input": [
      "path_base_proto = 'examples/prelu/cifar10_prelu_quick_train_test.prototxt.jinja2'\n",
      "path_base_solver = 'examples/prelu/cifar10_prelu_quick_solver.prototxt.jinja2'"
     ],
     "language": "python",
     "metadata": {},
     "outputs": [],
     "prompt_number": 7
    },
    {
     "cell_type": "markdown",
     "metadata": {},
     "source": [
      "## Run baseline"
     ]
    },
    {
     "cell_type": "code",
     "collapsed": false,
     "input": [
      "import caffe"
     ],
     "language": "python",
     "metadata": {},
     "outputs": [],
     "prompt_number": 8
    },
    {
     "cell_type": "code",
     "collapsed": false,
     "input": [
      "def test_net(solver, test_iter=100, out='ip2', label='label'):\n",
      "    net = solver.test_nets[0]\n",
      "    labels, outs = (),()\n",
      "    for i in xrange(test_iter):\n",
      "        ret = net.forward([label, out])\n",
      "        labels += ret[label].copy(),\n",
      "        outs += ret[out].copy(),\n",
      "    labels = vstack(labels)\n",
      "    outs = vstack(outs)\n",
      "    acc = (outs.argmax(1).flatten() == labels.flatten()).mean()\n",
      "    print 'Test accuracy =', acc\n",
      "    return outs, labels, acc"
     ],
     "language": "python",
     "metadata": {},
     "outputs": [],
     "prompt_number": 9
    },
    {
     "cell_type": "code",
     "collapsed": false,
     "input": [
      "def solve_auto_learning_rate(solver_proto, base_lr=0.01, tol=0.001, out='ip2', label='label'):\n",
      "    lr = base_lr\n",
      "    while True:\n",
      "        solver = caffe.SGDSolver(solver_proto)\n",
      "        solver.learning_rate = lr\n",
      "        losses = array(solver.step(200))\n",
      "        loss1, loss2 = losses[:100].mean(), losses[100:].mean()\n",
      "        print 'lr=%g: loss %g --> %g' % (lr, loss1, loss2)\n",
      "        if loss1 > loss2:\n",
      "            break\n",
      "        lr *= 0.5\n",
      "    _, _, acc = test_net(solver, 100, out=out, label=label)\n",
      "    prev_acc = acc\n",
      "    for i in xrange(5):\n",
      "        print 'lr=%g' % lr\n",
      "        while True:\n",
      "            solver.learning_rate = lr\n",
      "            losses = solver.step(1000)\n",
      "            outs, labels, acc = test_net(solver, 100, out=out, label=label)\n",
      "            if acc < prev_acc + tol:\n",
      "                prev_acc = acc\n",
      "                break\n",
      "            prev_acc = acc\n",
      "        lr *= 0.1"
     ],
     "language": "python",
     "metadata": {},
     "outputs": [],
     "prompt_number": 10
    },
    {
     "cell_type": "code",
     "collapsed": false,
     "input": [
      "caffe.set_mode_gpu()\n",
      "caffe.set_device(2)"
     ],
     "language": "python",
     "metadata": {},
     "outputs": [],
     "prompt_number": 16
    },
    {
     "cell_type": "markdown",
     "metadata": {},
     "source": [
      "## Baseline"
     ]
    },
    {
     "cell_type": "code",
     "collapsed": false,
     "input": [
      "net_proto = helper.convert_prototxt_template(path_base_proto, fprelu=False, finit=False)\n",
      "solver_proto = helper.convert_prototxt_template(path_base_solver, fprelu=False, finit=False, max_iter=10000, net=net_proto)\n",
      "solve_auto_learning_rate(solver_proto)"
     ],
     "language": "python",
     "metadata": {},
     "outputs": [
      {
       "output_type": "stream",
       "stream": "stdout",
       "text": [
        "lr=0.01: loss 2.21879 --> 1.97997\n",
        "Test accuracy ="
       ]
      },
      {
       "output_type": "stream",
       "stream": "stdout",
       "text": [
        " 0.3473\n",
        "lr=0.01\n",
        "Test accuracy ="
       ]
      },
      {
       "output_type": "stream",
       "stream": "stdout",
       "text": [
        " 0.5198\n",
        "Test accuracy ="
       ]
      },
      {
       "output_type": "stream",
       "stream": "stdout",
       "text": [
        " 0.5705\n",
        "Test accuracy ="
       ]
      },
      {
       "output_type": "stream",
       "stream": "stdout",
       "text": [
        " 0.5854\n",
        "Test accuracy ="
       ]
      },
      {
       "output_type": "stream",
       "stream": "stdout",
       "text": [
        " 0.6166\n",
        "Test accuracy ="
       ]
      },
      {
       "output_type": "stream",
       "stream": "stdout",
       "text": [
        " 0.6169\n",
        "lr=0.001\n",
        "Test accuracy ="
       ]
      },
      {
       "output_type": "stream",
       "stream": "stdout",
       "text": [
        " 0.706\n",
        "Test accuracy ="
       ]
      },
      {
       "output_type": "stream",
       "stream": "stdout",
       "text": [
        " 0.7187\n",
        "Test accuracy ="
       ]
      },
      {
       "output_type": "stream",
       "stream": "stdout",
       "text": [
        " 0.7252\n",
        "Test accuracy ="
       ]
      },
      {
       "output_type": "stream",
       "stream": "stdout",
       "text": [
        " 0.7303\n",
        "Test accuracy ="
       ]
      },
      {
       "output_type": "stream",
       "stream": "stdout",
       "text": [
        " 0.7327\n",
        "Test accuracy ="
       ]
      },
      {
       "output_type": "stream",
       "stream": "stdout",
       "text": [
        " 0.735\n",
        "Test accuracy ="
       ]
      },
      {
       "output_type": "stream",
       "stream": "stdout",
       "text": [
        " 0.7338\n",
        "lr=0.0001\n",
        "Test accuracy ="
       ]
      },
      {
       "output_type": "stream",
       "stream": "stdout",
       "text": [
        " 0.7405\n",
        "Test accuracy ="
       ]
      },
      {
       "output_type": "stream",
       "stream": "stdout",
       "text": [
        " 0.7407\n",
        "lr=1e-05\n",
        "Test accuracy ="
       ]
      },
      {
       "output_type": "stream",
       "stream": "stdout",
       "text": [
        " 0.7434\n",
        "Test accuracy ="
       ]
      },
      {
       "output_type": "stream",
       "stream": "stdout",
       "text": [
        " 0.7434\n",
        "lr=1e-06\n",
        "Test accuracy ="
       ]
      },
      {
       "output_type": "stream",
       "stream": "stdout",
       "text": [
        " 0.744\n"
       ]
      }
     ],
     "prompt_number": 12
    },
    {
     "cell_type": "markdown",
     "metadata": {},
     "source": [
      "## MSRA Initialization"
     ]
    },
    {
     "cell_type": "code",
     "collapsed": false,
     "input": [
      "net_proto = helper.convert_prototxt_template(path_base_proto, fprelu=False, finit=True)\n",
      "solver_proto = helper.convert_prototxt_template(path_base_solver, fprelu=False, finit=True, max_iter=10000, net=net_proto)\n",
      "solve_auto_learning_rate(solver_proto)"
     ],
     "language": "python",
     "metadata": {},
     "outputs": [
      {
       "output_type": "stream",
       "stream": "stdout",
       "text": [
        "lr=0.01: loss 1.88195 --> 1.65863\n",
        "Test accuracy ="
       ]
      },
      {
       "output_type": "stream",
       "stream": "stdout",
       "text": [
        " 0.447\n",
        "lr=0.01\n",
        "Test accuracy ="
       ]
      },
      {
       "output_type": "stream",
       "stream": "stdout",
       "text": [
        " 0.6042\n",
        "Test accuracy ="
       ]
      },
      {
       "output_type": "stream",
       "stream": "stdout",
       "text": [
        " 0.6421\n",
        "Test accuracy ="
       ]
      },
      {
       "output_type": "stream",
       "stream": "stdout",
       "text": [
        " 0.6658\n",
        "Test accuracy ="
       ]
      },
      {
       "output_type": "stream",
       "stream": "stdout",
       "text": [
        " 0.699\n",
        "Test accuracy ="
       ]
      },
      {
       "output_type": "stream",
       "stream": "stdout",
       "text": [
        " 0.6795\n",
        "lr=0.001\n",
        "Test accuracy ="
       ]
      },
      {
       "output_type": "stream",
       "stream": "stdout",
       "text": [
        " 0.7676\n",
        "Test accuracy ="
       ]
      },
      {
       "output_type": "stream",
       "stream": "stdout",
       "text": [
        " 0.7712\n",
        "Test accuracy ="
       ]
      },
      {
       "output_type": "stream",
       "stream": "stdout",
       "text": [
        " 0.7704\n",
        "lr=0.0001\n",
        "Test accuracy ="
       ]
      },
      {
       "output_type": "stream",
       "stream": "stdout",
       "text": [
        " 0.7771\n",
        "Test accuracy ="
       ]
      },
      {
       "output_type": "stream",
       "stream": "stdout",
       "text": [
        " 0.778\n",
        "lr=1e-05\n",
        "Test accuracy ="
       ]
      },
      {
       "output_type": "stream",
       "stream": "stdout",
       "text": [
        " 0.777\n",
        "lr=1e-06\n",
        "Test accuracy ="
       ]
      },
      {
       "output_type": "stream",
       "stream": "stdout",
       "text": [
        " 0.7769\n"
       ]
      }
     ],
     "prompt_number": 13
    },
    {
     "cell_type": "markdown",
     "metadata": {},
     "source": [
      "## PReLU"
     ]
    },
    {
     "cell_type": "code",
     "collapsed": false,
     "input": [
      "net_proto = helper.convert_prototxt_template(path_base_proto, fprelu=True, finit=False)\n",
      "solver_proto = helper.convert_prototxt_template(path_base_solver, fprelu=True, finit=False, max_iter=10000, net=net_proto)\n",
      "solve_auto_learning_rate(solver_proto)"
     ],
     "language": "python",
     "metadata": {},
     "outputs": [
      {
       "output_type": "stream",
       "stream": "stdout",
       "text": [
        "lr=0.01: loss 79.8126 --> 87.3365\n",
        "lr=0.005: loss 62.8365 --> 87.3365"
       ]
      },
      {
       "output_type": "stream",
       "stream": "stdout",
       "text": [
        "\n",
        "lr=0.0025: loss 1.96589 --> 1.68854"
       ]
      },
      {
       "output_type": "stream",
       "stream": "stdout",
       "text": [
        "\n",
        "Test accuracy ="
       ]
      },
      {
       "output_type": "stream",
       "stream": "stdout",
       "text": [
        " 0.4358\n",
        "lr=0.0025\n",
        "Test accuracy ="
       ]
      },
      {
       "output_type": "stream",
       "stream": "stdout",
       "text": [
        " 0.649\n",
        "Test accuracy ="
       ]
      },
      {
       "output_type": "stream",
       "stream": "stdout",
       "text": [
        " 0.6905\n",
        "Test accuracy ="
       ]
      },
      {
       "output_type": "stream",
       "stream": "stdout",
       "text": [
        " 0.6968\n",
        "Test accuracy ="
       ]
      },
      {
       "output_type": "stream",
       "stream": "stdout",
       "text": [
        " 0.7221\n",
        "Test accuracy ="
       ]
      },
      {
       "output_type": "stream",
       "stream": "stdout",
       "text": [
        " 0.7276\n",
        "Test accuracy ="
       ]
      },
      {
       "output_type": "stream",
       "stream": "stdout",
       "text": [
        " 0.7244\n",
        "lr=0.00025\n",
        "Test accuracy ="
       ]
      },
      {
       "output_type": "stream",
       "stream": "stdout",
       "text": [
        " 0.7737\n",
        "Test accuracy ="
       ]
      },
      {
       "output_type": "stream",
       "stream": "stdout",
       "text": [
        " 0.7765\n",
        "Test accuracy ="
       ]
      },
      {
       "output_type": "stream",
       "stream": "stdout",
       "text": [
        " 0.7744\n",
        "lr=2.5e-05\n",
        "Test accuracy ="
       ]
      },
      {
       "output_type": "stream",
       "stream": "stdout",
       "text": [
        " 0.7812\n",
        "Test accuracy ="
       ]
      },
      {
       "output_type": "stream",
       "stream": "stdout",
       "text": [
        " 0.7811\n",
        "lr=2.5e-06\n",
        "Test accuracy ="
       ]
      },
      {
       "output_type": "stream",
       "stream": "stdout",
       "text": [
        " 0.7809\n",
        "lr=2.5e-07\n",
        "Test accuracy ="
       ]
      },
      {
       "output_type": "stream",
       "stream": "stdout",
       "text": [
        " 0.7813\n"
       ]
      }
     ],
     "prompt_number": 15
    },
    {
     "cell_type": "code",
     "collapsed": false,
     "input": [
      "net = helper.get_net_from_prototxt(net_proto, 'examples/cifar10/cifar10_prelu_quick_iter_13000.caffemodel')"
     ],
     "language": "python",
     "metadata": {},
     "outputs": [],
     "prompt_number": 18
    },
    {
     "cell_type": "code",
     "collapsed": false,
     "input": [
      "net.params['relu1'][0].data"
     ],
     "language": "python",
     "metadata": {},
     "outputs": [
      {
       "metadata": {},
       "output_type": "pyout",
       "prompt_number": 19,
       "text": [
        "array([[[[ 0.12738737,  0.12482204,  0.12283948,  0.12010197,  0.12223089,\n",
        "           0.11042918,  0.1244391 ,  0.12749621,  0.12814705,  0.09805187,\n",
        "           0.12317258,  0.12302928,  0.12033054,  0.12766485,  0.12543717,\n",
        "           0.12192433,  0.1164498 ,  0.12793626,  0.11658856,  0.12915872,\n",
        "           0.10490669,  0.11821152,  0.12624872,  0.12666875,  0.12514795,\n",
        "           0.12724474,  0.11999031,  0.12864344,  0.12285256,  0.12362021,\n",
        "           0.12607521,  0.12913068]]]], dtype=float32)"
       ]
      }
     ],
     "prompt_number": 19
    },
    {
     "cell_type": "code",
     "collapsed": false,
     "input": [
      "net.params['relu2'][0].data"
     ],
     "language": "python",
     "metadata": {},
     "outputs": [
      {
       "metadata": {},
       "output_type": "pyout",
       "prompt_number": 20,
       "text": [
        "array([[[[ 0.06050369,  0.07702301,  0.10046922,  0.0674872 ,  0.07676925,\n",
        "           0.06001758,  0.05943305,  0.0864348 ,  0.08206136,  0.07556991,\n",
        "           0.07196334,  0.09275557,  0.08176398,  0.04477377,  0.06257499,\n",
        "           0.0896861 ,  0.05507515,  0.08812284,  0.05894653,  0.08324289,\n",
        "           0.08889621,  0.08018687,  0.09857817,  0.09472366,  0.1016331 ,\n",
        "           0.08745561,  0.06605819,  0.06427136,  0.07576501,  0.06771101,\n",
        "           0.05322064,  0.07683276]]]], dtype=float32)"
       ]
      }
     ],
     "prompt_number": 20
    },
    {
     "cell_type": "code",
     "collapsed": false,
     "input": [
      "net.params['relu3'][0].data"
     ],
     "language": "python",
     "metadata": {},
     "outputs": [
      {
       "metadata": {},
       "output_type": "pyout",
       "prompt_number": 21,
       "text": [
        "array([[[[ 0.06394422,  0.06679412,  0.05895478,  0.07051093,  0.05701926,\n",
        "           0.04688017,  0.04854617,  0.06791133,  0.0512492 ,  0.05568138,\n",
        "           0.06490032,  0.07046553,  0.06018631,  0.08775271,  0.05865562,\n",
        "           0.0673821 ,  0.06311655,  0.06979005,  0.05412103,  0.05952758,\n",
        "           0.05889722,  0.07533173,  0.06008805,  0.07012731,  0.0505862 ,\n",
        "           0.05237164,  0.06173146,  0.06168469,  0.06083193,  0.05904853,\n",
        "           0.0580551 ,  0.06565328,  0.04907859,  0.05384096,  0.03972374,\n",
        "           0.07276732,  0.06737985,  0.0657609 ,  0.06096459,  0.06414691,\n",
        "           0.06048459,  0.07303296,  0.05898304,  0.07654227,  0.04322099,\n",
        "           0.05959552,  0.05291513,  0.04518752,  0.0455562 ,  0.04394447,\n",
        "           0.06665515,  0.04344798,  0.05914612,  0.0491675 ,  0.06890952,\n",
        "           0.05542737,  0.05406386,  0.02759016,  0.05824554,  0.05739591,\n",
        "           0.05719505,  0.05823033,  0.07201643,  0.0599928 ]]]], dtype=float32)"
       ]
      }
     ],
     "prompt_number": 21
    },
    {
     "cell_type": "code",
     "collapsed": false,
     "input": [
      "del net"
     ],
     "language": "python",
     "metadata": {},
     "outputs": [],
     "prompt_number": 22
    },
    {
     "cell_type": "markdown",
     "metadata": {},
     "source": [
      "## PReLU + MSRA init"
     ]
    },
    {
     "cell_type": "code",
     "collapsed": false,
     "input": [
      "net_proto = helper.convert_prototxt_template(path_base_proto, fprelu=True, finit=True)\n",
      "solver_proto = helper.convert_prototxt_template(path_base_solver, fprelu=True, finit=True, max_iter=10000, net=net_proto)\n",
      "solve_auto_learning_rate(solver_proto)"
     ],
     "language": "python",
     "metadata": {},
     "outputs": [
      {
       "output_type": "stream",
       "stream": "stdout",
       "text": [
        "lr=0.01: loss 1.86982 --> 1.64537\n",
        "Test accuracy ="
       ]
      },
      {
       "output_type": "stream",
       "stream": "stdout",
       "text": [
        " 0.4318\n",
        "lr=0.01\n",
        "Test accuracy ="
       ]
      },
      {
       "output_type": "stream",
       "stream": "stdout",
       "text": [
        " 0.5993\n",
        "Test accuracy ="
       ]
      },
      {
       "output_type": "stream",
       "stream": "stdout",
       "text": [
        " 0.6855\n",
        "Test accuracy ="
       ]
      },
      {
       "output_type": "stream",
       "stream": "stdout",
       "text": [
        " 0.6918\n",
        "Test accuracy ="
       ]
      },
      {
       "output_type": "stream",
       "stream": "stdout",
       "text": [
        " 0.7096\n",
        "Test accuracy ="
       ]
      },
      {
       "output_type": "stream",
       "stream": "stdout",
       "text": [
        " 0.7019\n",
        "lr=0.001\n",
        "Test accuracy ="
       ]
      },
      {
       "output_type": "stream",
       "stream": "stdout",
       "text": [
        " 0.7734\n",
        "Test accuracy ="
       ]
      },
      {
       "output_type": "stream",
       "stream": "stdout",
       "text": [
        " 0.7754\n",
        "Test accuracy ="
       ]
      },
      {
       "output_type": "stream",
       "stream": "stdout",
       "text": [
        " 0.7768\n",
        "Test accuracy ="
       ]
      },
      {
       "output_type": "stream",
       "stream": "stdout",
       "text": [
        " 0.7747\n",
        "lr=0.0001\n",
        "Test accuracy ="
       ]
      },
      {
       "output_type": "stream",
       "stream": "stdout",
       "text": [
        " 0.7838\n",
        "Test accuracy ="
       ]
      },
      {
       "output_type": "stream",
       "stream": "stdout",
       "text": [
        " 0.7849\n",
        "Test accuracy ="
       ]
      },
      {
       "output_type": "stream",
       "stream": "stdout",
       "text": [
        " 0.7859\n",
        "Test accuracy ="
       ]
      },
      {
       "output_type": "stream",
       "stream": "stdout",
       "text": [
        " 0.7861\n",
        "lr=1e-05\n",
        "Test accuracy ="
       ]
      },
      {
       "output_type": "stream",
       "stream": "stdout",
       "text": [
        " 0.7846\n",
        "lr=1e-06\n",
        "Test accuracy ="
       ]
      },
      {
       "output_type": "stream",
       "stream": "stdout",
       "text": [
        " 0.7851\n"
       ]
      }
     ],
     "prompt_number": 23
    },
    {
     "cell_type": "markdown",
     "metadata": {},
     "source": [
      "## Deeper Architecture"
     ]
    },
    {
     "cell_type": "code",
     "collapsed": false,
     "input": [
      "path_base_proto_deeper = 'examples/prelu/cifar10_deeper_train_test.prototxt.jinja2'"
     ],
     "language": "python",
     "metadata": {},
     "outputs": [],
     "prompt_number": 12
    },
    {
     "cell_type": "code",
     "collapsed": false,
     "input": [
      "net_proto = helper.convert_prototxt_template(path_base_proto_deeper)"
     ],
     "language": "python",
     "metadata": {},
     "outputs": [],
     "prompt_number": 13
    },
    {
     "cell_type": "code",
     "collapsed": false,
     "input": [
      "solver_proto = helper.get_solver_prototxt(net_proto, 'examples/cifar10/cifar10_deeper', 100000, 100, 100000, display=100, snapshot=1000, debug_info=False)\n",
      "solve_auto_learning_rate(solver_proto, out='ip_fin')"
     ],
     "language": "python",
     "metadata": {},
     "outputs": [
      {
       "output_type": "stream",
       "stream": "stdout",
       "text": [
        "lr=0.01: loss 2.10409 --> 1.70508\n",
        "Test accuracy ="
       ]
      },
      {
       "output_type": "stream",
       "stream": "stdout",
       "text": [
        " 0.4011\n",
        "lr=0.01\n",
        "Test accuracy ="
       ]
      },
      {
       "output_type": "stream",
       "stream": "stdout",
       "text": [
        " 0.7088\n",
        "Test accuracy ="
       ]
      },
      {
       "output_type": "stream",
       "stream": "stdout",
       "text": [
        " 0.7327\n",
        "Test accuracy ="
       ]
      },
      {
       "output_type": "stream",
       "stream": "stdout",
       "text": [
        " 0.7543\n",
        "Test accuracy ="
       ]
      },
      {
       "output_type": "stream",
       "stream": "stdout",
       "text": [
        " 0.7358\n",
        "lr=0.001\n",
        "Test accuracy ="
       ]
      },
      {
       "output_type": "stream",
       "stream": "stdout",
       "text": [
        " 0.8053\n",
        "Test accuracy ="
       ]
      },
      {
       "output_type": "stream",
       "stream": "stdout",
       "text": [
        " 0.8071\n",
        "Test accuracy ="
       ]
      },
      {
       "output_type": "stream",
       "stream": "stdout",
       "text": [
        " 0.8056\n",
        "lr=0.0001\n",
        "Test accuracy ="
       ]
      },
      {
       "output_type": "stream",
       "stream": "stdout",
       "text": [
        " 0.8053\n",
        "lr=1e-05\n",
        "Test accuracy ="
       ]
      },
      {
       "output_type": "stream",
       "stream": "stdout",
       "text": [
        " 0.8053\n",
        "lr=1e-06\n",
        "Test accuracy ="
       ]
      },
      {
       "output_type": "stream",
       "stream": "stdout",
       "text": [
        " 0.8053\n"
       ]
      }
     ],
     "prompt_number": 14
    },
    {
     "cell_type": "code",
     "collapsed": false,
     "input": [],
     "language": "python",
     "metadata": {},
     "outputs": []
    }
   ],
   "metadata": {}
  }
 ]
}